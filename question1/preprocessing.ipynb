{
  "nbformat": 4,
  "nbformat_minor": 0,
  "metadata": {
    "colab": {
      "name": "preprocessing.ipynb",
      "provenance": []
    },
    "kernelspec": {
      "display_name": "Python 3",
      "name": "python3"
    },
    "accelerator": "GPU"
  },
  "cells": [
    {
      "cell_type": "code",
      "metadata": {
        "id": "HEGolzhYDpMY",
        "colab": {
          "base_uri": "https://localhost:8080/"
        },
        "outputId": "91714e0a-fefe-4cdd-9693-c5accd84e11f"
      },
      "source": [
        "import pickle\n",
        "import spacy\n",
        "import os\n",
        "import re, string, unicodedata\n",
        "import nltk\n",
        "!pip install contractions\n",
        "!pip install inflect\n",
        "import contractions\n",
        "import inflect\n",
        "from bs4 import BeautifulSoup\n",
        "from nltk import word_tokenize, sent_tokenize\n",
        "from nltk.corpus import stopwords,wordnet\n",
        "from nltk.stem import WordNetLemmatizer\n",
        "nltk.download('averaged_perceptron_tagger')\n",
        "nltk.download('punkt')\n",
        "nltk.download('wordnet')\n",
        "nltk.download('stopwords')"
      ],
      "execution_count": null,
      "outputs": [
        {
          "output_type": "stream",
          "text": [
            "Collecting contractions\n",
            "  Downloading https://files.pythonhosted.org/packages/0a/04/d5e0bb9f2cef5d15616ebf68087a725c5dbdd71bd422bcfb35d709f98ce7/contractions-0.0.48-py2.py3-none-any.whl\n",
            "Collecting textsearch>=0.0.21\n",
            "  Downloading https://files.pythonhosted.org/packages/d3/fe/021d7d76961b5ceb9f8d022c4138461d83beff36c3938dc424586085e559/textsearch-0.0.21-py2.py3-none-any.whl\n",
            "Collecting pyahocorasick\n",
            "\u001b[?25l  Downloading https://files.pythonhosted.org/packages/7f/c2/eae730037ae1cbbfaa229d27030d1d5e34a1e41114b21447d1202ae9c220/pyahocorasick-1.4.2.tar.gz (321kB)\n",
            "\u001b[K     |████████████████████████████████| 327kB 35.4MB/s \n",
            "\u001b[?25hCollecting anyascii\n",
            "\u001b[?25l  Downloading https://files.pythonhosted.org/packages/09/c7/61370d9e3c349478e89a5554c1e5d9658e1e3116cc4f2528f568909ebdf1/anyascii-0.1.7-py3-none-any.whl (260kB)\n",
            "\u001b[K     |████████████████████████████████| 266kB 51.5MB/s \n",
            "\u001b[?25hBuilding wheels for collected packages: pyahocorasick\n",
            "  Building wheel for pyahocorasick (setup.py) ... \u001b[?25l\u001b[?25hdone\n",
            "  Created wheel for pyahocorasick: filename=pyahocorasick-1.4.2-cp37-cp37m-linux_x86_64.whl size=85399 sha256=2003826923a73597b34766f3fdc986d02e4b0ceff9c149e2b945236d631d5814\n",
            "  Stored in directory: /root/.cache/pip/wheels/3a/03/34/77e3ece0bba8b86bfac88a79f923b36d805cad63caeba38842\n",
            "Successfully built pyahocorasick\n",
            "Installing collected packages: pyahocorasick, anyascii, textsearch, contractions\n",
            "Successfully installed anyascii-0.1.7 contractions-0.0.48 pyahocorasick-1.4.2 textsearch-0.0.21\n",
            "Requirement already satisfied: inflect in /usr/local/lib/python3.7/dist-packages (2.1.0)\n",
            "[nltk_data] Downloading package averaged_perceptron_tagger to\n",
            "[nltk_data]     /root/nltk_data...\n",
            "[nltk_data]   Unzipping taggers/averaged_perceptron_tagger.zip.\n",
            "[nltk_data] Downloading package punkt to /root/nltk_data...\n",
            "[nltk_data]   Unzipping tokenizers/punkt.zip.\n",
            "[nltk_data] Downloading package wordnet to /root/nltk_data...\n",
            "[nltk_data]   Unzipping corpora/wordnet.zip.\n",
            "[nltk_data] Downloading package stopwords to /root/nltk_data...\n",
            "[nltk_data]   Unzipping corpora/stopwords.zip.\n"
          ],
          "name": "stdout"
        },
        {
          "output_type": "execute_result",
          "data": {
            "text/plain": [
              "True"
            ]
          },
          "metadata": {
            "tags": []
          },
          "execution_count": 1
        }
      ]
    },
    {
      "cell_type": "code",
      "metadata": {
        "id": "ecgzA6gwExdE"
      },
      "source": [
        "def DoctoDict():\n",
        "  file_Names = os.listdir(\"/content/drive/MyDrive/IR_ASSIGNMENT_1/stories1\")\n",
        "  file_Paths = []\n",
        "  for i in range(len(file_Names)):\n",
        "    file_Paths.append(\"/content/drive/MyDrive/IR_ASSIGNMENT_1/stories1/\"+file_Names[i])\n",
        "  corpus = {}\n",
        "  for i in range(len(file_Paths)):\n",
        "    with open(file_Paths[i],encoding = \"latin-1\") as f_input:\n",
        "      corpus[file_Names[i]] = [f_input.read()]\n",
        "  return corpus"
      ],
      "execution_count": null,
      "outputs": []
    },
    {
      "cell_type": "code",
      "metadata": {
        "id": "DVYdVrsbI7JJ"
      },
      "source": [
        "CORPUS = DoctoDict()\n",
        "with open('CORPUS.pickle', 'wb') as handle:\n",
        "  pickle.dump(CORPUS, handle, protocol=pickle.HIGHEST_PROTOCOL)"
      ],
      "execution_count": null,
      "outputs": []
    },
    {
      "cell_type": "code",
      "metadata": {
        "colab": {
          "base_uri": "https://localhost:8080/"
        },
        "id": "ICteejq_wa7a",
        "outputId": "a7646e16-79cc-4983-ea2f-cef52fb95daf"
      },
      "source": [
        "with open('/content/CORPUS.pickle', 'rb') as handle:\n",
        "  corpus = pickle.load(handle)\n",
        "\n",
        "len(corpus.keys())"
      ],
      "execution_count": null,
      "outputs": [
        {
          "output_type": "execute_result",
          "data": {
            "text/plain": [
              "467"
            ]
          },
          "metadata": {
            "tags": []
          },
          "execution_count": 6
        }
      ]
    },
    {
      "cell_type": "code",
      "metadata": {
        "id": "eM6mJ8drTPNA"
      },
      "source": [
        "def strip_html(text):\n",
        "    soup = BeautifulSoup(text, \"html.parser\")\n",
        "    return soup.get_text()\n",
        "\n",
        "def remove_between_square_brackets(text):\n",
        "    text=re.sub('\\n',' ',text)\n",
        "    return re.sub('\\[[^]]*\\]', '', text)\n",
        "\n",
        "def denoise_text(text):\n",
        "    text = strip_html(text)\n",
        "    text = remove_between_square_brackets(text)\n",
        "    return text\n",
        "\n",
        "def replace_contractions(text):\n",
        "    return contractions.fix(text)\n",
        "\n",
        "def remove_non_ascii(words):\n",
        "    \"\"\"Remove non-ASCII characters from list of tokenized words\"\"\"\n",
        "    new_words = []\n",
        "    for word in words:\n",
        "        new_word = unicodedata.normalize('NFKD', word[0]).encode('ascii', 'ignore').decode('utf-8', 'ignore')\n",
        "        new_words.append((new_word,word[1]))\n",
        "    return new_words\n",
        "\n",
        "def to_lowercase(words):\n",
        "    \"\"\"Convert all characters to lowercase from list of tokenized words\"\"\"\n",
        "    new_words = []\n",
        "    for word in words:\n",
        "        new_word = word[0].lower()\n",
        "        new_words.append((new_word,word[1]))\n",
        "    return new_words\n",
        "\n",
        "def remove_punctuation(words):\n",
        "    \"\"\"Remove punctuation from list of tokenized words\"\"\"\n",
        "    new_words = []\n",
        "    for word in words:\n",
        "        new_word = re.sub(r'[^\\w\\s]', '', word[0])\n",
        "        if new_word != '':\n",
        "            new_words.append((new_word,word[1]))\n",
        "    return new_words\n",
        "\n",
        "def remove_stopwords(words):\n",
        "    \"\"\"Remove stop words from list of tokenized words\"\"\"\n",
        "    new_words = []\n",
        "    for word in words:\n",
        "        if word[0] not in stopwords.words('english'):\n",
        "            new_words.append((word[0],word[1]))\n",
        "    return new_words\n",
        "\n",
        "def get_wordnet_pos(tag):\n",
        "    tag_dict = {\"J\": wordnet.ADJ,\"N\": wordnet.NOUN,\"V\": wordnet.VERB,\"R\": wordnet.ADV}\n",
        "    return tag_dict.get(tag,wordnet.NOUN)\n",
        "\n",
        "def lemmatize(words):\n",
        "    \"\"\"Lemmatize words in list of tokenized words\"\"\"\n",
        "    lemmatizer = WordNetLemmatizer()\n",
        "    lemmas = []\n",
        "    posTagged = nltk.pos_tag(words)\n",
        "    wordnetTagged = list(map(lambda x: (x[0], get_wordnet_pos(x[1][0])), posTagged))\n",
        "    for word,tag in wordnetTagged:\n",
        "      lemma = lemmatizer.lemmatize(word,tag)\n",
        "      lemmas.append(lemma)\n",
        "    return lemmas\n",
        "\n",
        "def lemmatizeSpacy(words):\n",
        "  sent = \"\"\n",
        "  lwords = []\n",
        "  for word in words:\n",
        "    sent += word + \" \" \n",
        "  model = spacy.load(\"en_core_web_sm\")\n",
        "  tokens = model(sent)\n",
        "  for i in range(len(tokens)):\n",
        "    lwords.append((tokens[i].lemma_,i+1))\n",
        "  # for token in tokens:\n",
        "  #   lwords.append(token.lemma_)\n",
        "  return lwords\n",
        "\n",
        "def preProcess_html(fileName):\n",
        "    sample = denoise_text(fileName)\n",
        "    sample = replace_contractions(sample)\n",
        "    words = nltk.word_tokenize(sample)\n",
        "    words = remove_non_ascii(words)\n",
        "    words = to_lowercase(words)\n",
        "    words = remove_punctuation(words)\n",
        "    words = remove_stopwords(words)\n",
        "    # words = lemmatize(words)\n",
        "    # words = lemmatizeSpacy(words)\n",
        "    return words  \n",
        "\n",
        "def clean_text(text):\n",
        "    # text=re.sub('\\w*\\d\\w*','', text)\n",
        "    text=re.sub('\\n',' ',text)\n",
        "    text=re.sub(r\"http\\S+\", \"\", text)\n",
        "    text=re.sub('[^a-z0-9A-Z]',' ',text)\n",
        "    text=re.sub(' +',' ',text)\n",
        "    return text\n",
        "\n",
        "def preProcessotherfiles(fileName):\n",
        "    sample = clean_text(fileName)\n",
        "    sample = replace_contractions(sample)\n",
        "    words = nltk.word_tokenize(sample)\n",
        "    words = lemmatizeSpacy(words)\n",
        "    words = remove_non_ascii(words)\n",
        "    words = to_lowercase(words)\n",
        "    words = remove_punctuation(words)\n",
        "    words = remove_stopwords(words)\n",
        "    # words = lemmatize(words)\n",
        "    return words \n"
      ],
      "execution_count": null,
      "outputs": []
    },
    {
      "cell_type": "code",
      "metadata": {
        "id": "OTwRbkWFuwTS"
      },
      "source": [
        ""
      ],
      "execution_count": null,
      "outputs": []
    },
    {
      "cell_type": "code",
      "metadata": {
        "id": "eFsKQI7MlBg7"
      },
      "source": [
        "for i in corpus.keys():\n",
        "  if i.endswith(\".html\") or i.endswith(\".header\"):\n",
        "    corpus[i][0] = preProcess_html(corpus[i][0])\n",
        "  else:\n",
        "    corpus[i][0] = preProcessotherfiles(corpus[i][0])"
      ],
      "execution_count": null,
      "outputs": []
    },
    {
      "cell_type": "code",
      "metadata": {
        "colab": {
          "base_uri": "https://localhost:8080/"
        },
        "id": "8MS58BBPjf-d",
        "outputId": "19909c3e-e332-4eee-b013-2c41b9a6bd60"
      },
      "source": [
        "len(corpus.keys())"
      ],
      "execution_count": null,
      "outputs": [
        {
          "output_type": "execute_result",
          "data": {
            "text/plain": [
              "467"
            ]
          },
          "metadata": {
            "tags": []
          },
          "execution_count": 9
        }
      ]
    },
    {
      "cell_type": "code",
      "metadata": {
        "colab": {
          "base_uri": "https://localhost:8080/"
        },
        "id": "WOsI8P7azn0X",
        "outputId": "dce5389c-fda1-40d1-8ce2-3c2c99699834"
      },
      "source": [
        "print(corpus['life.txt'])"
      ],
      "execution_count": null,
      "outputs": [
        {
          "output_type": "stream",
          "text": [
            "[[('pron', 1), ('may', 2), ('well', 4), ('start', 5), ('pron', 9), ('write', 11), ('first', 13), ('pron', 16), ('writing', 20), ('sort', 21), ('mood', 23), ('secondly', 24), ('topic', 26), ('bother', 29), ('pron', 30), ('time', 33), ('pron', 35), ('long', 37), ('since', 38), ('put', 39), ('write', 41), ('sort', 43), ('text', 45), ('file', 46), ('essay', 48), ('subject', 51), ('tonight', 53), ('craving', 56), ('write', 58), ('pron', 59), ('gather', 60), ('idea', 64), ('settle', 67), ('pron', 69), ('brain', 70), ('proceed', 72), ('write', 74), ('pron', 76), ('really', 77), ('exist', 78), ('hell', 83), ('pron', 85), ('thought', 87), ('run', 88), ('dave', 90), ('mind', 92), ('pron', 94), ('sit', 95), ('wooden', 98), ('floor', 99), ('pron', 101), ('room', 102), ('pron', 103), ('late', 105), ('night', 107), ('exact', 109), ('time', 110), ('pron', 111), ('sure', 114), ('pron', 116), ('computer', 117), ('autodiale', 120), ('hack', 121), ('code', 122), ('end', 126), ('pron', 128), ('room', 129), ('small', 132), ('dias', 133), ('type', 134), ('niche', 135), ('lie', 136), ('pron', 137), ('keyboard', 138), ('setup', 139), ('various', 140), ('book', 141), ('magazine', 143), ('lie', 144), ('strew', 145), ('title', 148), ('within', 149), ('range', 150), ('keyboard', 152), ('midi', 153), ('dirk', 155), ('gentley', 156), ('holistic', 158), ('detective', 159), ('agency', 160)]]\n"
          ],
          "name": "stdout"
        }
      ]
    },
    {
      "cell_type": "code",
      "metadata": {
        "id": "VAHSBjok44PN"
      },
      "source": [
        ""
      ],
      "execution_count": null,
      "outputs": []
    },
    {
      "cell_type": "code",
      "metadata": {
        "id": "ySq0jJn8oexi"
      },
      "source": [
        "with open('DocTerms_SpacyLemm.pickle', 'wb') as handle:\n",
        "  pickle.dump(corpus, handle, protocol=pickle.HIGHEST_PROTOCOL)\n",
        "\n",
        "with open('/content/DocTerms_SpacyLemm.pickle', 'rb') as handle:\n",
        "   docT = pickle.load(handle)"
      ],
      "execution_count": null,
      "outputs": []
    },
    {
      "cell_type": "code",
      "metadata": {
        "colab": {
          "base_uri": "https://localhost:8080/"
        },
        "id": "vzB7BtfVKu49",
        "outputId": "4e194367-7b16-4808-f6cd-83c58122ca95"
      },
      "source": [
        "docT.keys()"
      ],
      "execution_count": null,
      "outputs": [
        {
          "output_type": "execute_result",
          "data": {
            "text/plain": [
              "dict_keys(['tree.txt', 'consumdr.hum', 'snow.txt', 'contrad1.hum', 'candle.hum', 'spiders.txt', 'timem.hac', 'aluminum.hum', 'life.txt', 'sight.txt', 'cameloto.hum', 'beyond.hum', 'partya.txt', 'nitepeek.sto', 'blind.txt', 'altside.hum', 'abyss.txt', 't_zone.jok', 'fantas.hum', 'advsayed.txt', 'eyeargon.hum', 'elite.app', 'rocket.sf', 'corcor.hum', 'elveshoe.txt', 'ab40thv.txt', 'gold3ber.txt', 'game.txt', 'excerpt.txt', 'knuckle.txt', 'emperor3.txt', 'empnclot.txt', 'abbey.txt', 'advtthum.txt', 'archive', 'wolfcran.txt', 'immorti.hum', 'wlgirl.txt', 'cooldark.sto', 'wolf7kid.txt', 'vday.hum', 'imagin.hum', 'adv_alad.txt', 'wombat.und', 'gemdra.txt', 'aircon.txt', 'wolflamb.txt', 'testpilo.hum', 'valen', 'confilct.fun', 'narciss.txt', 'enchdup.hum', 'ladylust.hum', 'tcoa.txt', 'enginer.txt', 'encamp01.txt', 'korea.s', 'taxnovel.txt', 'greedog.txt', 'keepmodu.txt', 'vainsong.txt', 'goldgoos.txt', 'quickfix', 'goldbug.poe', 'omarsheh.txt', 'grav', 'empty.txt', 'oxfrog.txt', 'gulliver.txt', 'obstgoat.txt', 'gay', 'ghost', 'goldfish.txt', 'tao3.dos', 'empsjowk.txt', 'enya_trn.txt', 'quot', 'kharian.txt', 'ezoff', 'girlclub.txt', 'tctac.txt', 'gatherng.txt', 'tailbear.txt', 'traitor.txt', 'gloves.txt', 'vampword.txt', 'girl', 'vaincrow.txt', 'enc', 'qcarroll', 'goldenp.txt', 'greatlrn.leg', 'yukon.txt', 'veiledl.txt', 'write', 'unluckwr.txt', 'wrt', 'uglyduck.txt', 'weeprncs.txt', 'lgoldbrd.txt', 'aminegg.txt', 'alissadl.txt', 'antcrick.txt', 'aquith.txt', 'beast.asc', 'bulzork1.txt', 'bulironb.txt', 'bureau.txt', 'beautbst.txt', 'bulphrek.txt', 'bgcspoof.txt', 'bulfelis.txt', 'burintrv.66', 'burltrs', 'burintrv.92', 'burintrv.78', 'rid.txt', 'mindprob.txt', 'lament.txt', 'kzap.txt', 'sucker.txt', 'mike.txt', 'angry_ca.txt', 'asop', 'mario.txt', 'zombies.txt', 'wisteria.txt', 'outcast.dos', 'quest', 'withdraw.cyb', 'beggars.txt', 'buggy.txt', 'blue', 'bishop00.txt', 'bern', 'blackp.txt', 'buldetal.txt', 'bulhuntr.txt', 'blh.txt', 'buldream.txt', 'bulmrx.txt', 'blackrdr', 'blak', 'bulprint.txt', 'bulolli1.txt', 'bulnoopt.txt', 'bulnland.txt', 'bulolli2.txt', 'graymare.txt', 'batlslau.txt', 'blossom.pom', 'bluebrd.txt', 'bullove.txt', 'bumm', 'burn', 's&m_plot', 's&m_that', 'safe', 'arcadia.sty', 'weaver.txt', 'tuc_mees', 'sanpedr2.txt', 'mattress.txt', 'mazarin.txt', 'melissa.txt', 'tearglas.txt', 'thanksg', 'thewave', 'the-tree.txt', 'timetrav.txt', 'tin', 'tinsoldr.txt', 'toilet.s', '13chil.txt', '14.lws', '16.lws', '17.lws', '18.lws', '19.lws', '20.lws', '5orange.txt', '6ablemen.txt', '6napolen.txt', '7oldsamr.txt', '7voysinb.txt', 'musgrave.txt', 'musibrem.txt', 'jackbstl.txt', 'jaynejob.asc', 'jim.asc', '3gables.txt', '3lpigs.txt', '3student.txt', '3wishes.txt', 'radar_ra.txt', 'rainda.txt', 'reap', 'shoscomb.txt', 'shrdfarm.txt', 'shulk.txt', 'sick-kid.txt', 'silverb.txt', 'sis', 'sleprncs.txt', 'snowmaid.txt', 'snowqn1.txt', 'piracy.sto', 'panama.txt', 'paul_har.sto', 'peace.fun', 'wanderer.fun', 'hansgrtl.txt', 'hareleph.txt', 'hareporc.txt', 'haretort.txt', 'stainles.ana', 'angelfur.hum', 'bigred.hum', 'blabnove.hum', 'blabnove.txt', 'brain.damage', 'bulwer.lytton', 'crazy.hum', 'excerpt.hum', 'fantasy.hum', 'fantasy.txt', 'fred.txt', 'hitch2.txt', 'hitch3.txt', 'hotline1.txt', 'hotline3.txt', 'hotline4.txt', 'idi.hum', 'imonly17.txt', 'jerichms.hum', 'fear.hum', 'dakota.txt', 'dan', 'darkness.txt', 'deal', 'bram', 'bran', 'breaks1.asc', 'breaks2.asc', 'breaks3.asc', 'bruce-p.txt', 'lil', 'lionbird', 'lionmane.txt', 'lionmosq.txt', 'lionwar.txt', 'lmermaid.txt', 'lmtchgrl.txt', 'startrek.txt', 'deathmrs.d', 'deer.txt', 'descent.poe', 'diaryflf.txt', 'dicegame.txt', 'dicksong.txt', 'myeyes', 'long1-3.txt', 'lpeargrl.txt', 'lrrhood.txt', 'ltp', 'luf', 'lure.txt', 'fleas.txt', 'flktrp.txt', 'floc', 'floobs.txt', 'flute.txt', 'flytrunk.txt', 'paink-ws.txt', 'parotsha.txt', 'perf', 'mtinder.txt', 'monkking.txt', 'monksol.txt', 'mouslion.txt', 'mindwar', 'missing.txt', 'pussboot.txt', 'pinocch.txt', 'foxncrow.txt', 'foxnstrk.txt', 'mydream.txt', 'cabin.txt', 'cardcnt.txt', 'ccm.txt', 'domain.poe', 'dopedenn.txt', 'dskool.txt', 'dtruck.txt', 'dwar', 'redragon.txt', 'retrib.txt', 'rock', 'roger1.txt', 'running.txt', 'sunday.txt', 'superg1', 'stairdre.txt', 'stsgreek', 'igiv', 'immortal', 'inter', 'adler.txt', 'aesop11.txt', 'aesopa10.txt', 'alad10.txt', 'healer.txt', 'whgdsreg.reg', 'fable.txt', 'space.txt', 'spectacl.poe', 'spider.txt', 'sqzply.txt', 'sre-dark.txt', 'szechuan', 'solitary.txt', 'pregn.txt', 'psf.txt', 'psi', 'psyc', 'plescopm.txt', 'cybersla.txt', 'hole2nar.txt', 'holmesbk.txt', 'home.fil', 'hop-frog.poe', 'horsdonk.txt', 'horswolf.txt', 'hound-b.txt', 'fic1', 'fic2', 'fic3', 'fic4', 'fic5', 'fic7', 'fish.txt', 'frogp.txt', 'island.poe', 'foxngrap.txt', 'fran', 'fea1', 'fea2', 'fea3', 'fearmnky', 'fgoose.txt', 'freeman.fil', 'friend.s', 'friends.txt', 'frum', 'nigel.10', 'nigel.2', 'nigel.3', 'nigel.4', 'nigel.5', 'nigel.6', 'nigel.7', 'nihgel_8.9', 'non2', 'non3', 'non4', 'nigel.1', '4moons.txt', 'telefone.txt', 'hils', 'history5.txt', 'poplstrm.txt', 'pphamlin.txt', 'prince.art', 'progx', 'hell4.txt', 'helmfuse.txt', 'charlie.txt', 'chik', 'clevdonk.txt', 'clon', 'cmoutmou.txt', 'comp', 'crabhern.txt', 'cum', 'wall.art', 'blasters.fic', 'jackmac.fic', 'reality.txt', 'times.fic', 'fourth.fic', 'campfire.txt', 'aislesix.txt', 'bagelman.txt', 'berternie.txt', 'discocanbefun.txt', 'kneeslapper.txt', 'mcdonaldl.txt', 'modemhippy.txt', 'pepdegener.txt', 'socialvikings.txt', 'terrorbears.txt', 'bgb.txt', 'cooldark.txt', 'aisle.six', 'bagel.man', 'cow.exploder', 'curious.george', 'day.in.mcdonald', 'disco.be.fun', 'fowl.death', 'how.ernie.bert', 'keeping.insanit', 'kneeslapper', 'pepsi.degenerat', 'social.vikings', 'spam.key', 'textfile.primer', 'robotech', 'hellmach.txt', '3sonnets.vrs', 'glimpse1.txt', 'bookem2', 'bookem.1', 'bookem3', '100west.txt', 'assorted.txt', 'arctic.txt', 'bestwish', 'forgotte', 'quarter.c1', 'quarter.c10', 'quarter.c11', 'quarter.c12', 'quarter.c13', 'quarter.c14', 'quarter.c15', 'quarter.c16', 'quarter.c17', 'quarter.c18', 'quarter.c19', 'quarter.c2', 'quarter.c3', 'quarter.c4', 'quarter.c5', 'quarter.c6', 'quarter.c7', 'quarter.c8', 'quarter.c9', 'vgilante.txt', 'sre02.txt', 'sre03.txt', 'sretrade.txt', 'sre01.txt', 'sre_feqh.txt', 'sre_sei.txt', 'sre05.txt', 'sre07.txt', 'sre10.txt', 'sre09.txt', 'sre06.txt', 'sre_finl.txt', 'sre08.txt', 'srex.txt', 'sre04.txt', 'poem-1.txt', 'poem-2.txt', 'poem-4.txt'])"
            ]
          },
          "metadata": {
            "tags": []
          },
          "execution_count": 12
        }
      ]
    },
    {
      "cell_type": "code",
      "metadata": {
        "id": "OvzYl30rkd4O"
      },
      "source": [
        ""
      ],
      "execution_count": null,
      "outputs": []
    }
  ]
}